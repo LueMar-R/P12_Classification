{
 "cells": [
  {
   "cell_type": "markdown",
   "metadata": {},
   "source": [
    "# Réseau de Neurones Convolutif avec Keras\n",
    "Reconnaissance des digits de la base MNIST"
   ]
  },
  {
   "cell_type": "markdown",
   "metadata": {},
   "source": [
    "## Acquisition des données"
   ]
  },
  {
   "cell_type": "code",
   "execution_count": 1,
   "metadata": {},
   "outputs": [],
   "source": [
    "import tensorflow as tf\n",
    "import numpy as np\n",
    "from tensorflow.keras import datasets, layers, models\n",
    "from keras.layers import Dense, Conv2D, Flatten\n",
    "from keras.utils import to_categorical\n",
    "import matplotlib.pyplot as plt\n",
    "from sklearn.datasets import fetch_openml"
   ]
  },
  {
   "cell_type": "code",
   "execution_count": 2,
   "metadata": {},
   "outputs": [],
   "source": [
    "mnist = fetch_openml('mnist_784', version=1)"
   ]
  },
  {
   "cell_type": "code",
   "execution_count": 3,
   "metadata": {},
   "outputs": [],
   "source": [
    "X = mnist.data\n",
    "y = mnist.target"
   ]
  },
  {
   "cell_type": "markdown",
   "metadata": {},
   "source": [
    "## Séparation des données en données de test et d'entrainement"
   ]
  },
  {
   "cell_type": "code",
   "execution_count": 4,
   "metadata": {},
   "outputs": [
    {
     "name": "stdout",
     "output_type": "stream",
     "text": [
      "Training matrix shape (60000, 784)\n",
      "Testing matrix shape (10000, 784)\n"
     ]
    }
   ],
   "source": [
    "X_train, X_test = X[:60000], X[60000:]\n",
    "y_train, y_test = y[:60000], y[60000:]\n",
    "print(\"Training matrix shape\", X_train.shape)\n",
    "print(\"Testing matrix shape\", X_test.shape)"
   ]
  },
  {
   "cell_type": "code",
   "execution_count": 5,
   "metadata": {},
   "outputs": [
    {
     "data": {
      "text/plain": [
       "Text(0.5, 1.0, 'Classe 5')"
      ]
     },
     "execution_count": 5,
     "metadata": {},
     "output_type": "execute_result"
    },
    {
     "data": {
      "image/png": "[encoded data removed]",
      "text/plain": [
       "<Figure size 432x288 with 1 Axes>"
      ]
     },
     "metadata": {
      "needs_background": "light"
     },
     "output_type": "display_data"
    }
   ],
   "source": [
    "plt.imshow(X_train[0].reshape(28,28), cmap='gray', interpolation='none')\n",
    "plt.title(\"Classe {}\".format(y_train[0]))"
   ]
  },
  {
   "cell_type": "markdown",
   "metadata": {},
   "source": [
    "## Normalisation des valeurs des pixels\n",
    "La valeur de chaque pixel doit être située entre 0 et 1"
   ]
  },
  {
   "cell_type": "code",
   "execution_count": 6,
   "metadata": {},
   "outputs": [
    {
     "name": "stdout",
     "output_type": "stream",
     "text": [
      "avant transformation >>  pixel (20,15) : 253.0 | pixel (5,16) : 126.0\n"
     ]
    }
   ],
   "source": [
    "print(\"avant transformation >>  pixel (20,15) :\", X_train[0].reshape(28,28)[20,15], \n",
    "      \"| pixel (5,16) :\", X_train[0].reshape(28,28)[5,16])"
   ]
  },
  {
   "cell_type": "code",
   "execution_count": 7,
   "metadata": {},
   "outputs": [],
   "source": [
    "X_train, X_test = X_train / 255, X_test / 255"
   ]
  },
  {
   "cell_type": "code",
   "execution_count": 8,
   "metadata": {},
   "outputs": [
    {
     "name": "stdout",
     "output_type": "stream",
     "text": [
      "après transformation >>  pixel (20,15) : 0.9921568627450981 | pixel (5,16) : 0.49411764705882355\n"
     ]
    }
   ],
   "source": [
    "print(\"après transformation >>  pixel (20,15) :\", X_train[0].reshape(28,28)[20,15], \n",
    "      \"| pixel (5,16) :\", X_train[0].reshape(28,28)[5,16])"
   ]
  },
  {
   "cell_type": "markdown",
   "metadata": {},
   "source": [
    "## Vérification des données"
   ]
  },
  {
   "cell_type": "code",
   "execution_count": 9,
   "metadata": {},
   "outputs": [
    {
     "data": {
      "image/png": "[encoded data removed]",
      "text/plain": [
       "<Figure size 1080x432 with 10 Axes>"
      ]
     },
     "metadata": {
      "needs_background": "light"
     },
     "output_type": "display_data"
    }
   ],
   "source": [
    "plt.figure(figsize=(15,6))\n",
    "for i in range(10):\n",
    "    plt.subplot(2,5,i+1)\n",
    "    plt.imshow(X_train[i].reshape(28,28), cmap=plt.cm.binary)\n",
    "    plt.xlabel(\" classe : {}\".format(y_train[i]))\n",
    "plt.show()\n"
   ]
  },
  {
   "cell_type": "markdown",
   "metadata": {},
   "source": [
    "## Création de la base convolutive\n",
    "Dans cette partie, nous allons apprendre à un CNN à classifier les 10 classes (les chiffres de 0 à 9) de la base de données MNIST.<br>\n",
    "Le modèle `Sequential` est le plus simple à construire avec Keras. Il permet de construire un modèle couche par couche."
   ]
  },
  {
   "cell_type": "code",
   "execution_count": 10,
   "metadata": {},
   "outputs": [],
   "source": [
    "#implémentation du modèle séquentiel\n",
    "model = models.Sequential()"
   ]
  },
  {
   "cell_type": "markdown",
   "metadata": {},
   "source": [
    "On va ajouter deux couches de convolution `Conv2D` et une couche dense activée par `Softmax`. <br>Softmax fait attribuer à chaque sortie une \"note\" entre 0 et 1, ainsi les sorties peuvent être interprétées comme des probabilités. La modèle base ensuite sa prédiction sur l'option qui a la plus grande probabilité. <br>\n",
    "Entre les couches de convulution et la couche dense, on doit introduire une couche `Flatten`qui fait la liaison entre les précédentes.\n",
    "\n",
    "`Kernel size` est la taille de la matrice de filtre pour la convolution (ici, on aura une matrice de filtre de 3x3)."
   ]
  },
  {
   "cell_type": "code",
   "execution_count": 11,
   "metadata": {},
   "outputs": [],
   "source": [
    "X_train = X_train.reshape(60000,28,28,1)\n",
    "X_test = X_test.reshape(10000,28,28,1)\n",
    "# on redimensionne les X pour qu'ils puissent être passés en argument input_shape de Conv2D.\n",
    "# conv2D travaille avec des images qui ont une hauteur, une largeur et un shema de couleur (1 pour greyscale, 3 pour RGB)"
   ]
  },
  {
   "cell_type": "code",
   "execution_count": 12,
   "metadata": {},
   "outputs": [],
   "source": [
    "model.add(Conv2D(64, kernel_size=3, activation='relu', input_shape=(28,28,1)))\n",
    "model.add(Conv2D(32, kernel_size=3, activation='relu'))\n",
    "model.add(Flatten())\n",
    "model.add(Dense(10, activation='softmax')) # couche de sortie taille 10 pour correspondre à Y"
   ]
  },
  {
   "cell_type": "code",
   "execution_count": 13,
   "metadata": {},
   "outputs": [
    {
     "name": "stdout",
     "output_type": "stream",
     "text": [
      "Model: \"sequential\"\n",
      "_________________________________________________________________\n",
      "Layer (type)                 Output Shape              Param #   \n",
      "=================================================================\n",
      "conv2d (Conv2D)              (None, 26, 26, 64)        640       \n",
      "_________________________________________________________________\n",
      "conv2d_1 (Conv2D)            (None, 24, 24, 32)        18464     \n",
      "_________________________________________________________________\n",
      "flatten (Flatten)            (None, 18432)             0         \n",
      "_________________________________________________________________\n",
      "dense (Dense)                (None, 10)                184330    \n",
      "=================================================================\n",
      "Total params: 203,434\n",
      "Trainable params: 203,434\n",
      "Non-trainable params: 0\n",
      "_________________________________________________________________\n"
     ]
    }
   ],
   "source": [
    "model.summary()"
   ]
  },
  {
   "cell_type": "markdown",
   "metadata": {},
   "source": [
    "## Compilation et entraînement du modèle"
   ]
  },
  {
   "cell_type": "markdown",
   "metadata": {},
   "source": [
    "### Encodage de la target\n",
    "Il faut que y ait la même forme que la sortie (10). On va convertir y_train et y_test en matrices one-hot."
   ]
  },
  {
   "cell_type": "code",
   "execution_count": 14,
   "metadata": {},
   "outputs": [],
   "source": [
    "Y_train = to_categorical(y_train, num_classes=10)\n",
    "Y_test = to_categorical(y_test, num_classes=10)"
   ]
  },
  {
   "cell_type": "code",
   "execution_count": 15,
   "metadata": {},
   "outputs": [
    {
     "name": "stdout",
     "output_type": "stream",
     "text": [
      "(60000, 28, 28, 1) (60000, 10)\n",
      "(10000, 28, 28, 1) (10000, 10)\n"
     ]
    }
   ],
   "source": [
    "print(X_train.shape, Y_train.shape)\n",
    "print(X_test.shape, Y_test.shape)"
   ]
  },
  {
   "cell_type": "markdown",
   "metadata": {},
   "source": [
    "### Compilation\n",
    "La compilation du modèle prend 3 paramètres : optimizer, loss et metrics.\n",
    "\n",
    "* L'optimizer contrôle le Learning Rate. `adam` est un optimizer qui fonctionne dans beaucoup de cas. Il ajuste le Learning rate au cours de l'entraînement du modèle.\n",
    "* L'utilisation de `categorical_crossentropy` est la plus courante pour les problèmes de classification. Un score faible indique un modèle qui fonctionne mieux.\n",
    "* Pour rendre les résultats plus lisibles, on utilise `accuracy` comme valeur de metrics pour afficher l'accuracy score calculé sur le set de validation pendant qu'on entraîne le modèle."
   ]
  },
  {
   "cell_type": "code",
   "execution_count": 16,
   "metadata": {},
   "outputs": [],
   "source": [
    "model.compile(optimizer='adam', loss='categorical_crossentropy', metrics=['accuracy'])"
   ]
  },
  {
   "cell_type": "markdown",
   "metadata": {},
   "source": [
    "### Entraînement\n",
    "\n",
    "Pour entraîner le modèle, on utilise la fonction `fit()` avec les features (X_train), la target (Y_train), les données de validation (X_test et Y_test) et le nombre d'epochs.\n",
    "\n",
    "Le nombre d'epochs est le nombre cycles que va faire le modèles dnas la data. Plus on augmente le nombre d'epochs, plus le modèle va s'améliorer, jusqu'à un certain point."
   ]
  },
  {
   "cell_type": "code",
   "execution_count": 17,
   "metadata": {},
   "outputs": [
    {
     "name": "stdout",
     "output_type": "stream",
     "text": [
      "Epoch 1/3\n",
      "1875/1875 [==============================] - 150s 79ms/step - loss: 0.2657 - accuracy: 0.9193 - val_loss: 0.0492 - val_accuracy: 0.9838\n",
      "Epoch 2/3\n",
      "1875/1875 [==============================] - 154s 82ms/step - loss: 0.0507 - accuracy: 0.9844 - val_loss: 0.0445 - val_accuracy: 0.9859\n",
      "Epoch 3/3\n",
      "1875/1875 [==============================] - 157s 84ms/step - loss: 0.0298 - accuracy: 0.9908 - val_loss: 0.0500 - val_accuracy: 0.9858\n"
     ]
    }
   ],
   "source": [
    "history = model.fit(X_train, Y_train, validation_data=(X_test, Y_test), epochs=3)"
   ]
  },
  {
   "cell_type": "markdown",
   "metadata": {},
   "source": [
    "Après 3 epochs, on obtient une accuracy de 99%. Le modèle semble donc adapté et prêt à réaliser des prédictions."
   ]
  },
  {
   "cell_type": "markdown",
   "metadata": {},
   "source": [
    "## Prédictions\n",
    "\n",
    "la fonction `predict()` revoie un vecteur de 10 valeurs. Ces valeurs correspondent à la probabilité que l'image représente chacun des digits (dnas l'ordre de 0 à 9)."
   ]
  },
  {
   "cell_type": "markdown",
   "metadata": {},
   "source": [
    "#### Visualisation : prédiction sur les 10 premières valeurs du test-set"
   ]
  },
  {
   "cell_type": "markdown",
   "metadata": {},
   "source": [
    "Prédiction sur les images 0 à 9 :"
   ]
  },
  {
   "cell_type": "code",
   "execution_count": 18,
   "metadata": {},
   "outputs": [],
   "source": [
    "a = model.predict(X_test[:10])"
   ]
  },
  {
   "cell_type": "code",
   "execution_count": 19,
   "metadata": {},
   "outputs": [
    {
     "name": "stdout",
     "output_type": "stream",
     "text": [
      "image n° 0 : [0. 0. 0. 0. 0. 0. 0. 1. 0. 0.]\n",
      "image n° 1 : [0. 0. 1. 0. 0. 0. 0. 0. 0. 0.]\n",
      "image n° 2 : [0. 1. 0. 0. 0. 0. 0. 0. 0. 0.]\n",
      "image n° 3 : [1. 0. 0. 0. 0. 0. 0. 0. 0. 0.]\n",
      "image n° 4 : [0. 0. 0. 0. 1. 0. 0. 0. 0. 0.]\n",
      "image n° 5 : [0. 1. 0. 0. 0. 0. 0. 0. 0. 0.]\n",
      "image n° 6 : [0.   0.   0.   0.   0.96 0.   0.   0.   0.04 0.  ]\n",
      "image n° 7 : [0. 0. 0. 0. 0. 0. 0. 0. 0. 1.]\n",
      "image n° 8 : [0.   0.   0.   0.   0.   0.88 0.12 0.   0.   0.  ]\n",
      "image n° 9 : [0. 0. 0. 0. 0. 0. 0. 0. 0. 1.]\n"
     ]
    }
   ],
   "source": [
    "for i in range(10) :\n",
    "    print(\"image n°\", i, \":\", a[i].round(2))"
   ]
  },
  {
   "cell_type": "code",
   "execution_count": 20,
   "metadata": {},
   "outputs": [
    {
     "data": {
      "text/plain": [
       "Text(0, 0.5, 'images n°')"
      ]
     },
     "execution_count": 20,
     "metadata": {},
     "output_type": "execute_result"
    },
    {
     "data": {
      "image/png": "[encoded data removed]",
      "text/plain": [
       "<Figure size 576x288 with 1 Axes>"
      ]
     },
     "metadata": {
      "needs_background": "light"
     },
     "output_type": "display_data"
    }
   ],
   "source": [
    "plt.figure(figsize=(8,4))\n",
    "plt.matshow(a,cmap=plt.cm.cividis, fignum=1)\n",
    "plt.xlabel(\"valeurs calculées\")\n",
    "plt.ylabel(\"images n°\")"
   ]
  },
  {
   "cell_type": "markdown",
   "metadata": {},
   "source": [
    "Le modèle semble avoir déterminé sans \"hésitations\" la classe d'appartenance des images 0 à 7 (respectivement 7, 2, 1, 0, 4, 1, 4, 9)<br>\n",
    "Les probabilités d'appartenance à la classe majoritaire sont moins franches pour les deux derniers digits : pour l'image n°9, 97% des votes ont été en faveur du 9 et quand même 3% pour le 4. Pour l'image n°8, l'image est déterminée comme étant un 5, mais avec seulement 85% de probabilités, tandis que 14% des votes vont au 6, et 1% au 8.\n",
    "\n",
    "Visualisons ces images pour vérifier les prédictions  :"
   ]
  },
  {
   "cell_type": "code",
   "execution_count": 21,
   "metadata": {},
   "outputs": [
    {
     "data": {
      "image/png": "[encoded data removed]",
      "text/plain": [
       "<Figure size 1080x432 with 10 Axes>"
      ]
     },
     "metadata": {
      "needs_background": "light"
     },
     "output_type": "display_data"
    }
   ],
   "source": [
    "plt.figure(figsize=(15,6))\n",
    "for i in range(10):\n",
    "    plt.subplot(2,5,i+1)\n",
    "    plt.imshow(X_test[i].reshape(28,28), cmap=plt.cm.binary)\n",
    "    plt.xlabel(\" classe : {}\".format(y_test[i]))\n",
    "plt.show()"
   ]
  },
  {
   "cell_type": "markdown",
   "metadata": {},
   "source": [
    "Les prédictions sont donc justes pour ces 10 premières données."
   ]
  },
  {
   "cell_type": "markdown",
   "metadata": {},
   "source": [
    "#### Prédiction et scoring sur l'ensemble du test-set"
   ]
  },
  {
   "cell_type": "code",
   "execution_count": 22,
   "metadata": {},
   "outputs": [],
   "source": [
    "Y_pred = model.predict(X_test)"
   ]
  },
  {
   "cell_type": "code",
   "execution_count": 23,
   "metadata": {},
   "outputs": [],
   "source": [
    "\n",
    "y_pred = np.where(Y_test == np.max(Y_test))[1]"
   ]
  },
  {
   "cell_type": "code",
   "execution_count": 24,
   "metadata": {},
   "outputs": [
    {
     "data": {
      "text/plain": [
       "(10000,)"
      ]
     },
     "execution_count": 24,
     "metadata": {},
     "output_type": "execute_result"
    }
   ],
   "source": [
    "y_pred.shape"
   ]
  },
  {
   "cell_type": "code",
   "execution_count": 25,
   "metadata": {},
   "outputs": [],
   "source": [
    "y_test = y_test.astype('int64')"
   ]
  },
  {
   "cell_type": "code",
   "execution_count": 26,
   "metadata": {},
   "outputs": [
    {
     "data": {
      "text/plain": [
       "(10000,)"
      ]
     },
     "execution_count": 26,
     "metadata": {},
     "output_type": "execute_result"
    }
   ],
   "source": [
    "y_test.shape"
   ]
  },
  {
   "cell_type": "code",
   "execution_count": 27,
   "metadata": {},
   "outputs": [
    {
     "name": "stdout",
     "output_type": "stream",
     "text": [
      "[[ 980    0    0    0    0    0    0    0    0    0]\n",
      " [   0 1135    0    0    0    0    0    0    0    0]\n",
      " [   0    0 1032    0    0    0    0    0    0    0]\n",
      " [   0    0    0 1010    0    0    0    0    0    0]\n",
      " [   0    0    0    0  982    0    0    0    0    0]\n",
      " [   0    0    0    0    0  892    0    0    0    0]\n",
      " [   0    0    0    0    0    0  958    0    0    0]\n",
      " [   0    0    0    0    0    0    0 1028    0    0]\n",
      " [   0    0    0    0    0    0    0    0  974    0]\n",
      " [   0    0    0    0    0    0    0    0    0 1009]]\n"
     ]
    }
   ],
   "source": [
    "from sklearn.metrics import confusion_matrix \n",
    "\n",
    "cmat = confusion_matrix(y_test, y_pred)\n",
    "print(cmat)"
   ]
  },
  {
   "cell_type": "markdown",
   "metadata": {},
   "source": [
    "Sauvegarde du modèle"
   ]
  },
  {
   "cell_type": "code",
   "execution_count": 30,
   "metadata": {},
   "outputs": [
    {
     "name": "stdout",
     "output_type": "stream",
     "text": [
      "INFO:tensorflow:Assets written to: mnist_model\\assets\n"
     ]
    }
   ],
   "source": [
    "model.save('mnist_model')\n",
    "#dans python : modele = tf.keras.model.load_model('mnist_model')"
   ]
  },
  {
   "cell_type": "code",
   "execution_count": null,
   "metadata": {},
   "outputs": [],
   "source": []
  }
 ],
 "metadata": {
  "kernelspec": {
   "display_name": "Python 3",
   "language": "python",
   "name": "python3"
  },
  "language_info": {
   "codemirror_mode": {
    "name": "ipython",
    "version": 3
   },
   "file_extension": ".py",
   "mimetype": "text/x-python",
   "name": "python",
   "nbconvert_exporter": "python",
   "pygments_lexer": "ipython3",
   "version": "3.6.12"
  }
 },
 "nbformat": 4,
 "nbformat_minor": 4
}
