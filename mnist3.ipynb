{
 "cells": [
  {
   "cell_type": "markdown",
   "metadata": {},
   "source": [
    "# Apprentissage supervisé - Classification\n",
    "December 15, 2020"
   ]
  },
  {
   "cell_type": "markdown",
   "metadata": {},
   "source": [
    "## 1 Préparation des données"
   ]
  },
  {
   "cell_type": "markdown",
   "metadata": {},
   "source": [
    "### 1.1 Téléchargement de données"
   ]
  },
  {
   "cell_type": "code",
   "execution_count": 1,
   "metadata": {},
   "outputs": [],
   "source": [
    "import matplotlib.pyplot as plt\n",
    "import numpy as np\n",
    "from sklearn.datasets import fetch_openml\n",
    "import pandas as pd\n",
    "from sklearn.linear_model import SGDClassifier\n",
    "from sklearn.model_selection import cross_val_score, cross_val_predict\n",
    "from sklearn.base import BaseEstimator\n",
    "from sklearn.metrics import confusion_matrix, roc_curve, roc_auc_score\n",
    "from sklearn.metrics import precision_recall_fscore_support, precision_recall_curve\n",
    "from sklearn.metrics import recall_score, precision_score, f1_score\n",
    "from sklearn.preprocessing import StandardScaler"
   ]
  },
  {
   "cell_type": "code",
   "execution_count": 2,
   "metadata": {},
   "outputs": [],
   "source": [
    "mnist = fetch_openml('mnist_784', version=1)"
   ]
  },
  {
   "cell_type": "markdown",
   "metadata": {},
   "source": [
    "### 1.2 Information sur les données"
   ]
  },
  {
   "cell_type": "markdown",
   "metadata": {},
   "source": [
    "#### 1. Le retour de la fonction \"fetch_openml\" est un dictionnaire (mnist). Affichez ces clés."
   ]
  },
  {
   "cell_type": "code",
   "execution_count": 3,
   "metadata": {},
   "outputs": [
    {
     "data": {
      "text/plain": [
       "dict_keys(['data', 'target', 'frame', 'categories', 'feature_names', 'target_names', 'DESCR', 'details', 'url'])"
      ]
     },
     "execution_count": 3,
     "metadata": {},
     "output_type": "execute_result"
    }
   ],
   "source": [
    "mnist.keys()"
   ]
  },
  {
   "cell_type": "markdown",
   "metadata": {},
   "source": [
    "#### 2. En utilisant les clés du dictionnaire \"mnist\", affichez :"
   ]
  },
  {
   "cell_type": "markdown",
   "metadata": {},
   "source": [
    "• La taille des données (le nombre des features et la taille de chaque feature). Par convention,\n",
    "les données sont à stocker dans une variable \"X\"."
   ]
  },
  {
   "cell_type": "code",
   "execution_count": 4,
   "metadata": {},
   "outputs": [
    {
     "name": "stdout",
     "output_type": "stream",
     "text": [
      "(70000, 784)\n"
     ]
    }
   ],
   "source": [
    "print(mnist.data.shape)"
   ]
  },
  {
   "cell_type": "markdown",
   "metadata": {},
   "source": [
    "• La taille des labels=classes (le nombre des labels). Par convention, les classes sont souvent\n",
    "à stocker dans une variable \"y\""
   ]
  },
  {
   "cell_type": "code",
   "execution_count": 5,
   "metadata": {},
   "outputs": [
    {
     "name": "stdout",
     "output_type": "stream",
     "text": [
      "(70000,)\n"
     ]
    }
   ],
   "source": [
    "print(mnist.target.shape)"
   ]
  },
  {
   "cell_type": "markdown",
   "metadata": {},
   "source": [
    "• Les différentes classes de la base de données"
   ]
  },
  {
   "cell_type": "code",
   "execution_count": 6,
   "metadata": {},
   "outputs": [
    {
     "name": "stdout",
     "output_type": "stream",
     "text": [
      "10 différents labels : ['0' '1' '2' '3' '4' '5' '6' '7' '8' '9']\n",
      "occurences de chacun : [6903 7877 6990 7141 6824 6313 6876 7293 6825 6958]\n"
     ]
    }
   ],
   "source": [
    "unique_values, occurrence_count = np.unique(mnist.target, return_counts=True)\n",
    "print(len(unique_values), \"différents labels :\", unique_values)\n",
    "print(\"occurences de chacun :\",occurrence_count)"
   ]
  },
  {
   "cell_type": "markdown",
   "metadata": {},
   "source": [
    "• Une description détaillée de la base de données."
   ]
  },
  {
   "cell_type": "code",
   "execution_count": 7,
   "metadata": {},
   "outputs": [
    {
     "data": {
      "text/plain": [
       "{'id': '554',\n",
       " 'name': 'mnist_784',\n",
       " 'version': '1',\n",
       " 'format': 'ARFF',\n",
       " 'upload_date': '2014-09-29T03:28:38',\n",
       " 'licence': 'Public',\n",
       " 'url': 'https://www.openml.org/data/v1/download/52667/mnist_784.arff',\n",
       " 'file_id': '52667',\n",
       " 'default_target_attribute': 'class',\n",
       " 'tag': ['AzurePilot',\n",
       "  'OpenML-CC18',\n",
       "  'OpenML100',\n",
       "  'study_1',\n",
       "  'study_123',\n",
       "  'study_41',\n",
       "  'study_99',\n",
       "  'vision'],\n",
       " 'visibility': 'public',\n",
       " 'status': 'active',\n",
       " 'processing_date': '2020-11-20 20:12:09',\n",
       " 'md5_checksum': '0298d579eb1b86163de7723944c7e495'}"
      ]
     },
     "execution_count": 7,
     "metadata": {},
     "output_type": "execute_result"
    }
   ],
   "source": [
    "mnist.details"
   ]
  },
  {
   "cell_type": "markdown",
   "metadata": {},
   "source": [
    "#### 3. A travers cette question, vous avez dû conclure que la base de données MNIST contient 70000 images en niveau de gris, et chaque image est caractérisée par un features de taille 784=28*28."
   ]
  },
  {
   "cell_type": "markdown",
   "metadata": {},
   "source": [
    "• Affichez l’image de la première instance de la base de données."
   ]
  },
  {
   "cell_type": "code",
   "execution_count": 8,
   "metadata": {},
   "outputs": [],
   "source": [
    "X = mnist.data\n",
    "y = mnist.target"
   ]
  },
  {
   "cell_type": "code",
   "execution_count": 11,
   "metadata": {},
   "outputs": [
    {
     "data": {
      "text/plain": [
       "<matplotlib.image.AxesImage at 0x1b388081710>"
      ]
     },
     "execution_count": 11,
     "metadata": {},
     "output_type": "execute_result"
    },
    {
     "data": {
      "image/png": "[encoded data removed]",
      "text/plain": [
       "<Figure size 432x288 with 1 Axes>"
      ]
     },
     "metadata": {
      "needs_background": "light"
     },
     "output_type": "display_data"
    }
   ],
   "source": [
    "img1 = X[0].reshape(28,28)\n",
    "plt.imshow(img1)"
   ]
  },
  {
   "cell_type": "markdown",
   "metadata": {},
   "source": [
    "• Affichez la classe de la première instance"
   ]
  },
  {
   "cell_type": "code",
   "execution_count": 12,
   "metadata": {},
   "outputs": [
    {
     "name": "stdout",
     "output_type": "stream",
     "text": [
      "5\n"
     ]
    }
   ],
   "source": [
    "print(y[0])"
   ]
  },
  {
   "cell_type": "markdown",
   "metadata": {},
   "source": [
    "#### 4. Affichez le type des labels (du premier label par exemple)"
   ]
  },
  {
   "cell_type": "code",
   "execution_count": 13,
   "metadata": {},
   "outputs": [
    {
     "name": "stdout",
     "output_type": "stream",
     "text": [
      "les labels sont du type <class 'str'>\n"
     ]
    }
   ],
   "source": [
    "print(\"les labels sont du type\", type(y[0]))"
   ]
  },
  {
   "cell_type": "markdown",
   "metadata": {},
   "source": [
    "#### 5. A travers la question précédente, vous avez dû remarquer que le type des labels est une chaîne de caractères. Il est préférable, dans les projets d’apprentissage automatique,d’utiliser des chiffres. \n",
    "Par conséquent, appliquez le casting sur les labels pour les transformer\n",
    "à des entiers."
   ]
  },
  {
   "cell_type": "code",
   "execution_count": 16,
   "metadata": {},
   "outputs": [
    {
     "name": "stdout",
     "output_type": "stream",
     "text": [
      "les labels sont maintenant du type <class 'numpy.int32'>\n"
     ]
    }
   ],
   "source": [
    "y = y.astype(int)\n",
    "print(\"les labels sont maintenant du type\", type(y[0]))"
   ]
  },
  {
   "cell_type": "markdown",
   "metadata": {},
   "source": [
    "### 1.3 Répartition des données\n",
    "Contrairement aux précédents projets, les données dans MNIST sont déjà partitionnées en\n",
    "base d’apprentissage et en base de test. Les 60 000 premières images composeront la base\n",
    "d’apprentissage et le reste des images constituera la base de test. "
   ]
  },
  {
   "cell_type": "markdown",
   "metadata": {},
   "source": [
    "• Écrivez un code qui met en exergue cette répartition tout en stockant les données de test d’apprentissage et les classes de test d’apprentissage dans 4 variables."
   ]
  },
  {
   "cell_type": "code",
   "execution_count": 17,
   "metadata": {},
   "outputs": [],
   "source": [
    "X_train, X_test = X[:60000], X[60000:]\n",
    "y_train, y_test = y[:60000], y[60000:]"
   ]
  },
  {
   "cell_type": "markdown",
   "metadata": {},
   "source": [
    "## 2 Apprentissage d’un classifieur binaire\n",
    "Comme indiqué dans les objectifs, ce projet vise à classifier les chiffres. Une des solutions est\n",
    "d’utiliser un classifieur binaire qui est apte d’identifier que l’image représente bien le chiffre que\n",
    "nous cherchons ou non. Par exemple, nous nous focaliserons sur la reconnaissance du chiffre 5"
   ]
  },
  {
   "cell_type": "markdown",
   "metadata": {},
   "source": [
    "### 2.1 Apprentissage des données"
   ]
  },
  {
   "cell_type": "markdown",
   "metadata": {},
   "source": [
    "#### 1. En utilisant les labels d’apprentissage et de test, écrivez un code qui stocke dans deux variables (une première pour la base d’apprentissage et une autre pour la base de test) distinctes True si la classe de l’instance est 5 et False Sinon. \n",
    "De ce fait, nous traitons une classification binaire."
   ]
  },
  {
   "cell_type": "code",
   "execution_count": 18,
   "metadata": {},
   "outputs": [
    {
     "data": {
      "text/plain": [
       "10000"
      ]
     },
     "execution_count": 18,
     "metadata": {},
     "output_type": "execute_result"
    }
   ],
   "source": [
    "len(y_test)"
   ]
  },
  {
   "cell_type": "code",
   "execution_count": 19,
   "metadata": {},
   "outputs": [],
   "source": [
    "yisfive_train = np.zeros(60000)\n",
    "yisfive_test = np.zeros(10000)\n",
    "\n",
    "yisfive_train = np.where(y_train == 5, True, False)\n",
    "yisfive_test = np.where(y_test == 5, True, False)"
   ]
  },
  {
   "cell_type": "markdown",
   "metadata": {},
   "source": [
    "#### 2. Pour l’apprentissage des données, nous allons utiliser le classifieur Stochastic Gradient Descent (SGD). \n",
    "Utiliser ce modèle pour la prédiction sur un chiffre (exemple 5)."
   ]
  },
  {
   "cell_type": "code",
   "execution_count": 40,
   "metadata": {},
   "outputs": [
    {
     "data": {
      "text/plain": [
       "SGDClassifier(max_iter=500)"
      ]
     },
     "execution_count": 40,
     "metadata": {},
     "output_type": "execute_result"
    }
   ],
   "source": [
    "#from sklearn.linear_model import SGDClassifier\n",
    "fiveclf = SGDClassifier(max_iter=500, tol=0.001)\n",
    "\n",
    "fiveclf.fit(X_train, yisfive_train)"
   ]
  },
  {
   "cell_type": "code",
   "execution_count": 41,
   "metadata": {},
   "outputs": [
    {
     "name": "stdout",
     "output_type": "stream",
     "text": [
      "train score sur la reconnaissance des '5' par SGDClassifier : 0.9578166666666666\n"
     ]
    }
   ],
   "source": [
    "print(\"train score sur la reconnaissance des '5' par SGDClassifier :\",fiveclf.score(X_train, yisfive_train))"
   ]
  },
  {
   "cell_type": "code",
   "execution_count": 42,
   "metadata": {},
   "outputs": [],
   "source": [
    "yisfive_pred_train = fiveclf.predict(X_train)"
   ]
  },
  {
   "cell_type": "markdown",
   "metadata": {},
   "source": [
    "### 2.2 Évaluation du modèle d’apprentissage sur les données d’apprentissage\n",
    "La mesure de performance d’une méthode de classification est souvent plus délicate qu’une méthode\n",
    "de régression. Cela est dû au nombre de mesures de performance existantes dans la littérature."
   ]
  },
  {
   "cell_type": "markdown",
   "metadata": {},
   "source": [
    "#### 2.2.1 Taux de classification"
   ]
  },
  {
   "cell_type": "markdown",
   "metadata": {},
   "source": [
    "##### 1. Écrivez un code qui répartit la base d’apprentissage en base d’apprentissage et en base de validation en utilisant la méthode 3-fold cross-validation. Optez pour la valeur \"accuracy\" pour l’argument \"scoring\" pour afficher :"
   ]
  },
  {
   "cell_type": "markdown",
   "metadata": {},
   "source": [
    "• le taux de classification (accuracy) de chaque fold,<br>\n",
    "• la moyenne des taux de classification"
   ]
  },
  {
   "cell_type": "code",
   "execution_count": 43,
   "metadata": {},
   "outputs": [],
   "source": [
    "# from sklear.model_selection import cross_val_score\n",
    "accuracies1 = cross_val_score(fiveclf, X_train, yisfive_train, cv=3, scoring='accuracy')"
   ]
  },
  {
   "cell_type": "code",
   "execution_count": 44,
   "metadata": {},
   "outputs": [
    {
     "name": "stdout",
     "output_type": "stream",
     "text": [
      ">> Taux de classification par fold : [0.95765 0.96215 0.9617 ]\n",
      ">> Moyenne des taux de classification : 0.9605\n"
     ]
    }
   ],
   "source": [
    "print(\">> Taux de classification par fold :\", accuracies1)\n",
    "print(\">> Moyenne des taux de classification :\", accuracies1.mean())"
   ]
  },
  {
   "cell_type": "markdown",
   "metadata": {},
   "source": [
    "##### 2. Dans cette question, vous allez créer un classifieur simple qui classifie toutes les images de MNIST comme \"non-5\". \n",
    "Créez une classe Never5Classifier qui hérite de la classe BaseEstimator. la classe BaseEstimator existe dans le sous-module \"base\" du module \"sklearn\""
   ]
  },
  {
   "cell_type": "code",
   "execution_count": 22,
   "metadata": {},
   "outputs": [],
   "source": [
    "# from sklearn.base import BaseEstimator"
   ]
  },
  {
   "cell_type": "markdown",
   "metadata": {},
   "source": [
    "##### 3. Dans la classe Never5Classifier, créez :"
   ]
  },
  {
   "cell_type": "markdown",
   "metadata": {},
   "source": [
    "• Une méthode fit qui prend en argument les données et les labels. Cette méthode ne va\n",
    "rien retourner et par conséquent va contenir que le mot-clé \"pass\". Vous allez implémenter\n",
    "cette méthode car l’héritage de la classe BaseEstimator l’exige"
   ]
  },
  {
   "cell_type": "markdown",
   "metadata": {},
   "source": [
    "• Une méthode predict qui prend en argument les données et retourne une structure de\n",
    "données ayant la taille des données et qui contient que la valeur False (= non-5). Utilisez\n",
    "la fonction \"zeros\" du module \"numpy\" avec un \"dtype=bool\""
   ]
  },
  {
   "cell_type": "code",
   "execution_count": 26,
   "metadata": {},
   "outputs": [],
   "source": [
    "class Never5Classifier(BaseEstimator):\n",
    "    \n",
    "    @classmethod\n",
    "    def fit(cls, X, y):\n",
    "        pass\n",
    "    \n",
    "    @classmethod\n",
    "    def predict(cls, X):\n",
    "        y_pred = np.zeros(len(X), dtype = bool)\n",
    "        return y_pred"
   ]
  },
  {
   "cell_type": "markdown",
   "metadata": {},
   "source": [
    "##### 4. Créez un objet de la classe Never5Classifier"
   ]
  },
  {
   "cell_type": "code",
   "execution_count": 27,
   "metadata": {},
   "outputs": [],
   "source": [
    "n5clf = Never5Classifier()\n",
    "n5clf.fit(X_train, yisfive_train)"
   ]
  },
  {
   "cell_type": "markdown",
   "metadata": {},
   "source": [
    "##### 5. Testez le classifieur en utilisant une validation croisée de type 3-fold cross-validation. \n",
    "Optez pour la valeur \"accuracy\" pour l’argument \"scoring\" pour afficher : le taux de classification\n",
    "(accuracy) de chaque fold; La moyenne des taux de classification."
   ]
  },
  {
   "cell_type": "code",
   "execution_count": 28,
   "metadata": {},
   "outputs": [
    {
     "name": "stdout",
     "output_type": "stream",
     "text": [
      "taux de classification par fold : [0.91125 0.90855 0.90915]\n",
      "moyenne des taux de classification : 0.90965\n"
     ]
    }
   ],
   "source": [
    "accuraciesNever5 = cross_val_score(n5clf, X_train, yisfive_train, cv = 3, scoring = \"accuracy\")\n",
    "print(\"taux de classification par fold :\", accuraciesNever5)\n",
    "print(\"moyenne des taux de classification :\", accuraciesNever5.mean())"
   ]
  },
  {
   "cell_type": "markdown",
   "metadata": {},
   "source": [
    "<font color=\"blue\"> _On a vu au début du notebook qu'il y avait 6313 occurences du chiffre 5 sur le 70000 entrées de la bases de donnée. Cela représente un peu mois de 10% des données.\n",
    "C'est pourquoi, même si le modèle ne recconnaît jamais le chiffre 5, il aura quand même \"raison\" plus de 90% du temps._\n",
    "\n",
    "_Cela relativise le score de 96% trouvé à la question 2.2.1 pour le classifier SGD. Puisque le score est presque de 91% quand le modèle se trompe systématiquement sur la reconnaissance du digit '5', on peut en déduire qu'il se trompe encore presque 40% du temps avec le classifier SGD, malgré ce score de 96%, excellent __en apparence__ seulement._</font>"
   ]
  },
  {
   "cell_type": "markdown",
   "metadata": {},
   "source": [
    "#### 2.2.2 Matrice de confusion:"
   ]
  },
  {
   "cell_type": "markdown",
   "metadata": {},
   "source": [
    "##### 1. En utilisant le modèle déjà construit du classifieur SGD, prédisez les classes des données d’apprentissage. Pour ce faire, utilisez la fonction \"cross_val_predict\" du sous-module \"model_selection\" du module \"sklearn\". Optez pour une validation croisée de type 3-fold cross validation."
   ]
  },
  {
   "cell_type": "code",
   "execution_count": 50,
   "metadata": {},
   "outputs": [],
   "source": [
    "# from sklear.model_selection import cross_val_predict\n",
    "yisfive_cross_pred_train = cross_val_predict(fiveclf, X_train, yisfive_train, cv=3)"
   ]
  },
  {
   "cell_type": "markdown",
   "metadata": {},
   "source": [
    "##### 2. Affichez la matrice de confusion du modèle d’apprentissage. Veillez à bien interpréter la matrice de confusion."
   ]
  },
  {
   "cell_type": "code",
   "execution_count": 51,
   "metadata": {},
   "outputs": [],
   "source": [
    "# from sklearn.metrics import confusion_matrix\n",
    "cmat5 = confusion_matrix(yisfive_train, yisfive_cross_pred_train)"
   ]
  },
  {
   "cell_type": "code",
   "execution_count": 52,
   "metadata": {},
   "outputs": [],
   "source": [
    "def display_cmat(cmat):\n",
    "    TN = cmat[0][0]\n",
    "    TP = cmat[1][1]\n",
    "    FP = cmat[0][1]\n",
    "    FN = cmat[1][0]\n",
    "    print(\"True Positive =\", TP)\n",
    "    print(\"True Negative =\", TN)\n",
    "    print(\"False Positive =\", FP)\n",
    "    print(\"False Negative =\", FN)\n",
    "    return TP, TN, FP, FN"
   ]
  },
  {
   "cell_type": "code",
   "execution_count": 53,
   "metadata": {},
   "outputs": [
    {
     "name": "stdout",
     "output_type": "stream",
     "text": [
      "[[53407  1172]\n",
      " [ 1040  4381]]\n",
      "True Positive = 4381\n",
      "True Negative = 53407\n",
      "False Positive = 1172\n",
      "False Negative = 1040\n"
     ]
    }
   ],
   "source": [
    "print(cmat5)\n",
    "TP, TN, FP, FN = display_cmat(cmat5)"
   ]
  },
  {
   "cell_type": "code",
   "execution_count": 54,
   "metadata": {},
   "outputs": [
    {
     "name": "stdout",
     "output_type": "stream",
     "text": [
      "57788 images on été correctement identifiées, soit 96.31 % des valeurs\n"
     ]
    }
   ],
   "source": [
    "print(TP + TN, \"images on été correctement identifiées, soit\", \n",
    "      round((TP + TN)*100 / len(X_train),2), \"% des valeurs\") "
   ]
  },
  {
   "cell_type": "markdown",
   "metadata": {},
   "source": [
    "<font color=\"blue\"> _Pour mémoire, nous avons 60000 items correspondant au chifre '5' dans notre train set. Les \"True Positive\" et \"True Négative\", sont les images qui ont été correctement classées.\n",
    "Cela représente ici 57788 images, soit 96.31% de succès._</font>"
   ]
  },
  {
   "cell_type": "markdown",
   "metadata": {},
   "source": [
    "#### 2.2.3 Précision et rappel:"
   ]
  },
  {
   "cell_type": "markdown",
   "metadata": {},
   "source": [
    "##### 1. Calculez la précision, le rappel et le score F1 du modèle d’apprentissage"
   ]
  },
  {
   "cell_type": "code",
   "execution_count": 55,
   "metadata": {},
   "outputs": [
    {
     "name": "stdout",
     "output_type": "stream",
     "text": [
      "precision :  0.7889\n",
      "recall (rappel):  0.8082\n",
      "f1-score :  0.7984\n"
     ]
    }
   ],
   "source": [
    "#from sklearn.metrics import recall_score\n",
    "#from sklearn.metrics import precision_score\n",
    "#from sklearn.metrics import f1_score\n",
    "\n",
    "print(\"precision : \", round(precision_score(yisfive_train, yisfive_cross_pred_train),4))\n",
    "print(\"recall (rappel): \", round(recall_score(yisfive_train, yisfive_cross_pred_train),4))\n",
    "print(\"f1-score : \", round(f1_score(yisfive_train, yisfive_cross_pred_train),4))"
   ]
  },
  {
   "cell_type": "markdown",
   "metadata": {},
   "source": [
    "##### 2. Pour classifier les instances, le classifieur SGD calcule un score en se basant sur sa fonction de décision. \n",
    "Si le score est supérieur à un seuil, il affecte la classe positive à l’instance\n",
    "sinon il affecte la classe négative. \n",
    "\n",
    "Affichez les scores des différentes instances de la\n",
    "base d’apprentissage via la fonction \"cross_val_predict\". Optez pour une valeur de \"decision_\n",
    "function\" pour l’argument \"method\" et une validation croisée de type 3-fold crossvalidation."
   ]
  },
  {
   "cell_type": "code",
   "execution_count": 56,
   "metadata": {},
   "outputs": [],
   "source": [
    "yisfive_cross_pred_train = cross_val_predict(fiveclf, X_train, yisfive_train, cv=3, method = \"decision_function\")"
   ]
  },
  {
   "cell_type": "markdown",
   "metadata": {},
   "source": [
    "##### 3. Calculez les précisions et les rappels de chaque instance en utilisant la fonction \"precision_recall_curve\""
   ]
  },
  {
   "cell_type": "code",
   "execution_count": 58,
   "metadata": {},
   "outputs": [],
   "source": [
    "#from sklearn.metrics import precision_recall_curve\n",
    "precision, recall, threshold = precision_recall_curve(yisfive_train, yisfive_cross_pred_train)"
   ]
  },
  {
   "cell_type": "markdown",
   "metadata": {},
   "source": [
    "##### 4. Tracez la courbe des précisions/rappels. \n",
    "L’axe des abscisses doit contenir les rappels et l’axe\n",
    "des ordonnées doit contenir les précisions. Interprétez les résultats."
   ]
  },
  {
   "cell_type": "code",
   "execution_count": 59,
   "metadata": {},
   "outputs": [
    {
     "data": {
      "text/plain": [
       "Text(0, 0.5, 'Precision')"
      ]
     },
     "execution_count": 59,
     "metadata": {},
     "output_type": "execute_result"
    },
    {
     "data": {
      "image/png": "[encoded data removed]",
      "text/plain": [
       "<Figure size 720x360 with 1 Axes>"
      ]
     },
     "metadata": {
      "needs_background": "light"
     },
     "output_type": "display_data"
    }
   ],
   "source": [
    "plt.figure(figsize=(10,5))\n",
    "plt.plot(recall, precision)\n",
    "plt.xlabel(\"Recall\")\n",
    "plt.ylabel(\"Precision\")"
   ]
  },
  {
   "cell_type": "markdown",
   "metadata": {},
   "source": [
    "<font color='blue'> _Avec le modèle d'apprentissage choisi, on avait obtenu une précision de 0.8829 pour un rappel de 0.7078 seulement. On pourrait être tenté de modifier les paramètres pour obtenir un meilleur rappel ; cependant, on constate en observant la courbe ci-dessus qu'une augmentation, même légère, du rappel causerait un effondrement de la précision. Il est donc nécessaire de trouver un compromis entre précision et rappel._ </font>\n",
    "\n",
    "![prec_reca](https://upload.wikimedia.org/wikipedia/commons/thumb/2/26/Precisionrecall.svg/320px-Precisionrecall.svg.png)"
   ]
  },
  {
   "cell_type": "markdown",
   "metadata": {},
   "source": [
    "#### 2.2.4 Courbe ROC:"
   ]
  },
  {
   "cell_type": "markdown",
   "metadata": {},
   "source": [
    "##### 1. Calculez le taux de faux positifs (tfp), le taux de vrais positifs (tvp) et les seuils utilisés pour classifier les données d’apprentissage. \n",
    "Pour ce faire, utilisez la fonction \"roc_curve\" du sousmodule\n",
    "\"metrics\" du module \"sklearn\""
   ]
  },
  {
   "cell_type": "code",
   "execution_count": 60,
   "metadata": {},
   "outputs": [],
   "source": [
    "#from sklearn.metrics import roc_curve\n",
    "\n",
    "fpr, tpr , threshold = roc_curve(yisfive_train, yisfive_cross_pred_train)"
   ]
  },
  {
   "cell_type": "markdown",
   "metadata": {},
   "source": [
    "<font color='blue'> _Une courbe ROC (receiver operating characteristic) est un graphique représentant les performances d'un modèle de classification pour tous les seuils (thresholds) de classification. Cette courbe trace le taux de vrais positifs en fonction du taux de faux positifs :_\n",
    "\n",
    "_Le taux de vrais positifs (TVP ou TPR) est l'équivalent du rappel (sensibilité)\\* . Il est donc défini ainsi :_\n",
    "    $ TPR = \\frac{TP}{TP+FN}$\n",
    "\n",
    "_Le taux de faux positifs (TFP ou FPR) équivaut à [1-spécificité]\\** et est donc défini ainsi :_    $ FPR = \\frac{FP}{FP+TN}$\n",
    "\n",
    "_Une courbe ROC trace les valeurs TVP et TFP pour différents seuils de classification. Diminuer la valeur du seuil de classification permet de classer plus d'éléments comme positifs, ce qui augmente le nombre de faux positifs et de vrais positifs._ </font> \n",
    "\n",
    "<font color='blue' size=0.18>\n",
    "* la sensibilité (le rappel) est la capacité du test à indentifier les positifs (par rapport au total des positifs réels)\n",
    "** la spécificité est la capacité du test à identifier les négatifs (par rapport au total des négatifs réels)</font> "
   ]
  },
  {
   "cell_type": "markdown",
   "metadata": {},
   "source": [
    "##### 2. Tracez la courbe des ROC. \n",
    "L’axe des abscisses doit contenir les taux de faux positifs et l’axe\n",
    "des ordonnées doit contenir les taux de vrais positifs. Ajoutez des titres à ces deux axes et\n",
    "activer le mode \"grid\" avec la fonction grid de matplotlib"
   ]
  },
  {
   "cell_type": "code",
   "execution_count": 61,
   "metadata": {},
   "outputs": [
    {
     "data": {
      "text/plain": [
       "Text(0, 0.5, 'tpr - taux de vrais positifs')"
      ]
     },
     "execution_count": 61,
     "metadata": {},
     "output_type": "execute_result"
    },
    {
     "data": {
      "image/png": "[encoded data removed]",
      "text/plain": [
       "<Figure size 576x360 with 1 Axes>"
      ]
     },
     "metadata": {
      "needs_background": "light"
     },
     "output_type": "display_data"
    }
   ],
   "source": [
    "plt.figure(figsize =(8,5))\n",
    "plt.plot(fpr, tpr)\n",
    "plt.grid()\n",
    "plt.xlabel(\"fpr - taux de faux positifs\")\n",
    "plt.ylabel(\"tpr - taux de vrais positifs\")"
   ]
  },
  {
   "cell_type": "markdown",
   "metadata": {},
   "source": [
    "##### 3. Calculez l’AUC (Area Under the Curve) du modèle d’apprentissage. \n",
    "Pour ce faire, utilisez\n",
    "la fonction \"roc_auc_score\" du sous-module \"metrics\" du module \"sklearn\"."
   ]
  },
  {
   "cell_type": "code",
   "execution_count": 62,
   "metadata": {},
   "outputs": [
    {
     "name": "stdout",
     "output_type": "stream",
     "text": [
      "Aire sous la courbe ROC : 0.96303950712813\n"
     ]
    }
   ],
   "source": [
    "#from sklearn.metrics import roc_auc_score\n",
    "\n",
    "aucscore = roc_auc_score(yisfive_train, yisfive_cross_pred_train)\n",
    "print(\"Aire sous la courbe ROC :\", aucscore)"
   ]
  },
  {
   "cell_type": "markdown",
   "metadata": {},
   "source": [
    "__________________________________"
   ]
  },
  {
   "cell_type": "markdown",
   "metadata": {},
   "source": [
    "## 3 Apprentissage d’un classifieur multi-classes\n",
    "Dans cette partie, nous allons apprendre un classifieur à classifier les 10 classes (les chiffres de 0 à\n",
    "9) de la base de données MNIST."
   ]
  },
  {
   "cell_type": "markdown",
   "metadata": {},
   "source": [
    "### 3.1 Apprentissage des données"
   ]
  },
  {
   "cell_type": "markdown",
   "metadata": {},
   "source": [
    "#### 1. En se basant sur le classifieur SGD, faites l’apprentissage du modèle en se basant sur toutes les instances (images) d’apprentissage.\n",
    "Ainsi le modèle va apprendre à partir de toutes les\n",
    "classes de la BD et non pas juste à partir de deux classes comme c’était le cas dans la partie\n",
    "II de TP."
   ]
  },
  {
   "cell_type": "code",
   "execution_count": 89,
   "metadata": {},
   "outputs": [
    {
     "data": {
      "text/plain": [
       "SGDClassifier()"
      ]
     },
     "execution_count": 89,
     "metadata": {},
     "output_type": "execute_result"
    }
   ],
   "source": [
    "#pour mémoire :\n",
    "#X_train, X_test = X[:60000], X[60000:]\n",
    "#y_train, y_test = y[:60000], y[60000:]\n",
    "\n",
    "allclf = SGDClassifier(loss=\"hinge\", penalty=\"l2\", max_iter=1000, tol=0.001)\n",
    "allclf.fit(X_train, y_train)"
   ]
  },
  {
   "cell_type": "code",
   "execution_count": 90,
   "metadata": {},
   "outputs": [
    {
     "data": {
      "text/plain": [
       "0.9002"
      ]
     },
     "execution_count": 90,
     "metadata": {},
     "output_type": "execute_result"
    }
   ],
   "source": [
    "allclf.score(X_train, y_train)"
   ]
  },
  {
   "cell_type": "markdown",
   "metadata": {},
   "source": [
    "#### 2. Via le modèle d’apprentissage bâti, prédisez la classe de la première instance de la base dedonnées (celle de la question 3). La prédiction va être, cette fois-ci, un chiffre de 0 à 9."
   ]
  },
  {
   "cell_type": "code",
   "execution_count": 91,
   "metadata": {},
   "outputs": [
    {
     "name": "stdout",
     "output_type": "stream",
     "text": [
      "1ere instance >> prédiction : 5 >> vraie valeur : 5\n"
     ]
    }
   ],
   "source": [
    "inst1_pred = allclf.predict(X[0].reshape(1,len(X[0])))\n",
    "print(\"1ere instance >> prédiction :\", inst1_pred[0], \">> vraie valeur :\", y[0])"
   ]
  },
  {
   "cell_type": "code",
   "execution_count": 92,
   "metadata": {},
   "outputs": [
    {
     "name": "stdout",
     "output_type": "stream",
     "text": [
      "14eme instance >> prédiction : 1 >> vraie valeur : 1\n"
     ]
    }
   ],
   "source": [
    "#vérification avec une autre instance \n",
    "inst15_pred = allclf.predict(X[14].reshape(1,len(X[14])))\n",
    "print(\"14eme instance >> prédiction :\", inst15_pred[0], \">> vraie valeur :\", y[14])"
   ]
  },
  {
   "cell_type": "markdown",
   "metadata": {},
   "source": [
    "#### 3. En utilisant l’objet qui instancie la classe SGDClassifier :"
   ]
  },
  {
   "cell_type": "markdown",
   "metadata": {},
   "source": [
    "• Affichez, via la méthode \"decision_function\", les 10 scores de décision utilisés par la\n",
    "méthode SGD pour classifier la première instance de la base de données."
   ]
  },
  {
   "cell_type": "code",
   "execution_count": 93,
   "metadata": {},
   "outputs": [
    {
     "data": {
      "text/plain": [
       "array([[-11951.19083298, -34683.82452674,  -7314.89168529,\n",
       "         -3164.65584347, -25143.22160041,   4731.46410739,\n",
       "        -26292.60986004, -18266.64256064,  -9243.99893737,\n",
       "         -9673.71754861]])"
      ]
     },
     "execution_count": 93,
     "metadata": {},
     "output_type": "execute_result"
    }
   ],
   "source": [
    "allclf.decision_function(X[0].reshape(1,len(X[0])))"
   ]
  },
  {
   "cell_type": "markdown",
   "metadata": {},
   "source": [
    "• Affichez, via l’attribut \"classes_\", les différentes classes utilisées par le classifieur. Qu’est\n",
    "ce que vous remarquez ?"
   ]
  },
  {
   "cell_type": "code",
   "execution_count": 94,
   "metadata": {},
   "outputs": [
    {
     "data": {
      "text/plain": [
       "array([0, 1, 2, 3, 4, 5, 6, 7, 8, 9])"
      ]
     },
     "execution_count": 94,
     "metadata": {},
     "output_type": "execute_result"
    }
   ],
   "source": [
    "allclf.classes_"
   ]
  },
  {
   "cell_type": "markdown",
   "metadata": {},
   "source": [
    "<font color='blue'> _Les scores ci-dessus correspondent chacun à une de ces dix classes (chiffres de 0 à 9). Le score le plus haut (5440) correspond au chiffre 5, c'est celui qui sera sélectionné pour formuler la prédiction._"
   ]
  },
  {
   "cell_type": "markdown",
   "metadata": {},
   "source": [
    "### 3.2 Évaluation du modèle d’apprentissage sur les données d’apprentissage"
   ]
  },
  {
   "cell_type": "markdown",
   "metadata": {},
   "source": [
    "#### 3.2.1 Taux de classification"
   ]
  },
  {
   "cell_type": "markdown",
   "metadata": {},
   "source": [
    "##### 1. Écrivez un code qui répartit la base d’apprentissage en base d’apprentissage et en base de validation en utilisant la méthode 3-fold cross-validation. \n",
    "Optez pour la valeur \"accuracy\"\n",
    "pour l’argument \"scoring\" pour afficher : le taux de classification (accuracy) de chaque fold;\n",
    "la moyenne des taux de classification"
   ]
  },
  {
   "cell_type": "code",
   "execution_count": 95,
   "metadata": {},
   "outputs": [],
   "source": [
    "accur = cross_val_score(allclf, X_train, y_train, cv = 3, scoring = \"accuracy\")"
   ]
  },
  {
   "cell_type": "code",
   "execution_count": 96,
   "metadata": {},
   "outputs": [
    {
     "name": "stdout",
     "output_type": "stream",
     "text": [
      ">> Taux de classification de chaque fold : [0.87235 0.84395 0.86605]\n",
      ">> Moyenne des taux : 0.8607833333333333\n"
     ]
    }
   ],
   "source": [
    "print(\">> Taux de classification de chaque fold :\", accur)\n",
    "print(\">> Moyenne des taux :\", accur.mean())"
   ]
  },
  {
   "cell_type": "markdown",
   "metadata": {},
   "source": [
    "##### 2. Une des techniques d’amélioration des taux de classification est le \"Scaling\". \n",
    "Vérifiez ceci\n",
    "en appliquant une standardisation sur les données d’apprentissage avec la classe StandartScaler."
   ]
  },
  {
   "cell_type": "code",
   "execution_count": 97,
   "metadata": {},
   "outputs": [],
   "source": [
    "# from sklearn.preprocessing import StandardScaler\n",
    "scaler = StandardScaler()\n",
    "X_train_scaled = scaler.fit_transform(X_train)"
   ]
  },
  {
   "cell_type": "markdown",
   "metadata": {},
   "source": [
    "##### 3. Évaluez le modèle sur les nouvelles données d’apprentissage avec une validation croisée de type 3-fold cross-validation. \n",
    "Les résultats sont-ils meilleurs que ceux avant le Scaling?"
   ]
  },
  {
   "cell_type": "code",
   "execution_count": null,
   "metadata": {},
   "outputs": [],
   "source": [
    "accur_scaled = cross_val_score(allclf, X_train_scaled, y_train, cv = 3, scoring = \"accuracy\")"
   ]
  },
  {
   "cell_type": "code",
   "execution_count": null,
   "metadata": {},
   "outputs": [],
   "source": [
    "print(\"Après Standardisation :\")\n",
    "print(\">> Taux de classification de chaque fold :\", accur_scaled)\n",
    "print(\">> Moyenne des taux :\", accur_scaled.mean())"
   ]
  },
  {
   "cell_type": "markdown",
   "metadata": {},
   "source": [
    "<font color='blue'> _Les résultats sonts meilleurs après standardisation_"
   ]
  },
  {
   "cell_type": "markdown",
   "metadata": {},
   "source": [
    "#### 3.2.2 Matrice de Confusion"
   ]
  },
  {
   "cell_type": "markdown",
   "metadata": {},
   "source": [
    "##### 1. En utilisant le modèle déjà construit du classifieur SGD, prédisez les classes des données d’apprentissage."
   ]
  },
  {
   "cell_type": "code",
   "execution_count": 50,
   "metadata": {},
   "outputs": [],
   "source": [
    "y_pred = allclf.predict(X_train_scaled)"
   ]
  },
  {
   "cell_type": "markdown",
   "metadata": {},
   "source": [
    "##### 2. Affichez la matrice de confusion du modèle d’apprentissage. \n",
    "Pour ce faire, utilisez la fonction\n",
    "\"confusion_matrix\" du sous-module \"metrics\" du module \"sklearn\". La taille de la matrice\n",
    "de confusion, cette fois-ci, est 10x10 car on traite un problème de classification de 10\n",
    "classes. Interprétez les résultats."
   ]
  },
  {
   "cell_type": "code",
   "execution_count": 51,
   "metadata": {},
   "outputs": [
    {
     "name": "stdout",
     "output_type": "stream",
     "text": [
      "[[3861   41   37    1    2 1930   18   33    0    0]\n",
      " [   1 6679    3    0    0   50    0    9    0    0]\n",
      " [  74 1432 1352    9   41 2788   83  179    0    0]\n",
      " [   5  795   29  127   41 4724   12  398    0    0]\n",
      " [   7  800   29    0 1116 3565   20  304    0    1]\n",
      " [  13   72    4    1    5 5277   18   30    0    1]\n",
      " [  98 1424   92    4    4 2456 1833    7    0    0]\n",
      " [   7  180    2    0   10  404    1 5655    0    6]\n",
      " [  37 1695   27    0    9 3958   12  113    0    0]\n",
      " [  14  286   18    1   28 3390    1 2193    0   18]]\n"
     ]
    }
   ],
   "source": [
    "cmat = confusion_matrix(y_train, y_pred)\n",
    "print(cmat)"
   ]
  },
  {
   "cell_type": "code",
   "execution_count": 52,
   "metadata": {},
   "outputs": [
    {
     "data": {
      "text/plain": [
       "Text(0, 0.5, 'valeurs calculées')"
      ]
     },
     "execution_count": 52,
     "metadata": {},
     "output_type": "execute_result"
    },
    {
     "data": {
      "image/png": "[encoded data removed]",
      "text/plain": [
       "<Figure size 432x432 with 1 Axes>"
      ]
     },
     "metadata": {
      "needs_background": "light"
     },
     "output_type": "display_data"
    }
   ],
   "source": [
    "plt.figure(figsize=(6,6))\n",
    "plt.matshow(cmat,cmap=plt.cm.gray, fignum=1)\n",
    "plt.xlabel(\"valeurs réelles\")\n",
    "plt.ylabel(\"valeurs calculées\")"
   ]
  },
  {
   "cell_type": "markdown",
   "metadata": {},
   "source": [
    "<font color = 'blue'> _Cette matrice de confusion (et sa visalisation) montrent que certaines valurs, comme le 1, et 5 et le 7 sont plutôt bien reconnues, tandis que certaines le sont très mal, comme le 2 et le 3, plus souvent pris pour des 5. Le 8 n'est jamais reconnu (plus souvent pris pour un 1 ou un 5 et le 9 presque jamais (plus souvent pris pour un 5 ou un 7)._"
   ]
  },
  {
   "cell_type": "markdown",
   "metadata": {},
   "source": [
    "\n",
    "\n",
    "\n",
    "\n",
    "By Youssef Mourchid\n",
    "© Copyright 2020"
   ]
  }
 ],
 "metadata": {
  "kernelspec": {
   "display_name": "Python 3",
   "language": "python",
   "name": "python3"
  },
  "language_info": {
   "codemirror_mode": {
    "name": "ipython",
    "version": 3
   },
   "file_extension": ".py",
   "mimetype": "text/x-python",
   "name": "python",
   "nbconvert_exporter": "python",
   "pygments_lexer": "ipython3",
   "version": "3.6.12"
  }
 },
 "nbformat": 4,
 "nbformat_minor": 4
}
